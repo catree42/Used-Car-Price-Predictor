{
 "cells": [
  {
   "cell_type": "code",
   "execution_count": 1,
   "metadata": {},
   "outputs": [],
   "source": [
    "import selenium\n",
    "from bs4 import BeautifulSoup\n",
    "import requests"
   ]
  },
  {
   "cell_type": "code",
   "execution_count": 3,
   "metadata": {},
   "outputs": [],
   "source": [
    "base_url= 'https://m.bobaedream.co.kr/mycar/d_search_list?sel_m_gubun=&gubun=A&maker_no=&model_no=&group_no=&buy_year1=&buy_month1=&buy_year2=&buy_month2=&car_color=&car_option=&price1=100&price2=&min_km=&max_km=&chk-min-years=on&chk-min-month=on&chk-max-years=on&chk-max-month=on&lease_mprice1=&lease_mprice2=&lease_rmonth1=&lease_rmonth2=&lease_tprice1=&lease_tprice2=&l_year1=&l_year2='\n",
    "\n",
    "resp = requests.get(base_url)\n",
    "soup = BeautifulSoup(resp.content)"
   ]
  },
  {
   "cell_type": "code",
   "execution_count": null,
   "metadata": {},
   "outputs": [],
   "source": []
  },
  {
   "cell_type": "code",
   "execution_count": 14,
   "metadata": {},
   "outputs": [],
   "source": [
    "#page-list-results > div.wrap-basic-list.js-product-list > div.car-list-container.cyber > ul > li:nth-child(1) > div > div.car-content > div.car-description > a\n",
    "a_tags = soup.select('div.car-description > a.link')\n",
    "linkList = []\n",
    "for a_tag in a_tags :\n",
    "    linkList.append(a_tag['href'])\n",
    "\n",
    "linkList[0]\n",
    "\n",
    "url = 'https://m.bobaedream.co.kr/'"
   ]
  },
  {
   "cell_type": "code",
   "execution_count": 32,
   "metadata": {},
   "outputs": [
    {
     "data": {
      "text/plain": [
       "<Response [200]>"
      ]
     },
     "execution_count": 32,
     "metadata": {},
     "output_type": "execute_result"
    }
   ],
   "source": [
    "resp = requests.get(url+linkList[0])\n",
    "soup = BeautifulSoup(resp.content)\n",
    "#bobaeHead > div > h1\n",
    "car_name = soup.select('h1.tit-area')[0].text\n",
    "cno = linkList[0].split('/')[3]\n",
    "history_url = f'https://m.bobaedream.co.kr/proc/popup_0305_history.php?car_number={car_name}&tbl=mycar&cno={cno}'\n",
    "\n",
    "resp = requests.get(history_url)\n",
    "soup = BeautifulSoup(resp.content)\n",
    "\n"
   ]
  },
  {
   "cell_type": "code",
   "execution_count": null,
   "metadata": {},
   "outputs": [],
   "source": [
    "ㄴ"
   ]
  }
 ],
 "metadata": {
  "kernelspec": {
   "display_name": "usedCar",
   "language": "python",
   "name": "python3"
  },
  "language_info": {
   "codemirror_mode": {
    "name": "ipython",
    "version": 3
   },
   "file_extension": ".py",
   "mimetype": "text/x-python",
   "name": "python",
   "nbconvert_exporter": "python",
   "pygments_lexer": "ipython3",
   "version": "3.12.4"
  }
 },
 "nbformat": 4,
 "nbformat_minor": 2
}
