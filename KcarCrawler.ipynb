{
 "cells": [
  {
   "cell_type": "code",
   "execution_count": 11,
   "metadata": {},
   "outputs": [
    {
     "data": {
      "text/plain": [
       "<Response [200]>"
      ]
     },
     "execution_count": 11,
     "metadata": {},
     "output_type": "execute_result"
    }
   ],
   "source": [
    "import requests\n",
    "\n",
    "cookies = {\n",
    "    'grb_ck@cbd6aecb': '1dbee15f-d926-476d-78b7-8963146f3308',\n",
    "    'grb_ui@cbd6aecb': 'e673e261-3d0f-c14a-7340-4264f5581f1d',\n",
    "    'WMONID': 'z6r3DvptI-b',\n",
    "    'ab.storage.deviceId.79570721-e48c-4ca4-b9d6-e036e9bfeff8': '%7B%22g%22%3A%22e8185df7-3f70-5af9-fcda-de57454a9f0d%22%2C%22c%22%3A1721885183344%2C%22l%22%3A1721885183344%7D',\n",
    "    '_gcl_au': '1.1.1904636840.1721885183',\n",
    "    '_gid': 'GA1.2.136043934.1721885184',\n",
    "    '_fbp': 'fb.1.1721885183911.139141426843129737',\n",
    "    'dmcself_fp': '080b4a9db290ec97330d32f8427f06ff',\n",
    "    '_spfp': 'sp.1.080b4a9db290ec97330d32f8427f06ff.1721885185',\n",
    "    '_spfp_v2_2': 'sp.2.2.1721885185.95554',\n",
    "    'grb_id_permission@cbd6aecb': 'success',\n",
    "    'grb_ip_permission@cbd6aecb': 'success',\n",
    "    'grb_dynamic_list@': 'checked%2C%5B%5D',\n",
    "    'grb_recent_goods@cbd6aecb': 'EC61036242%2CEC61036242%2CEC61036242%2CEC61027488%2CEC61036242',\n",
    "    '__gads': 'ID=3eb660511442a5be:T=1721885183:RT=1721977974:S=ALNI_MZqyO6yJ6mehr9iZlBgVIYw84bi8g',\n",
    "    '__gpi': 'UID=00000ea59162998d:T=1721885183:RT=1721977974:S=ALNI_MYq1FRDHzr3RQFk4kmv1T-3_l2fGQ',\n",
    "    '__eoi': 'ID=c191399dacd8c201:T=1721885183:RT=1721977974:S=AA-AfjZtQBVS4lJOaXMELyOvtKvR',\n",
    "    '_ga_17DVLNK818': 'GS1.1.1721976639.4.1.1721978096.60.0.0',\n",
    "    'amplitude_id_86cd6422ba1c1dd78d122ad0b1158d6akcar.com': 'eyJkZXZpY2VJZCI6IjdiOTQ4OTM4LTVjMmYtNDEzZC04NGVmLTI5OTE1MTliNzBiNFIiLCJ1c2VySWQiOm51bGwsIm9wdE91dCI6ZmFsc2UsInNlc3Npb25JZCI6MTcyMTk3NjYzODk2MCwibGFzdEV2ZW50VGltZSI6MTcyMTk3ODA5NjY4MSwiZXZlbnRJZCI6MjYsImlkZW50aWZ5SWQiOjI0LCJzZXF1ZW5jZU51bWJlciI6NTB9',\n",
    "    'ab.storage.sessionId.79570721-e48c-4ca4-b9d6-e036e9bfeff8': '%7B%22g%22%3A%22da5e40fc-a1a3-f0e9-d747-5359725fce09%22%2C%22e%22%3A1721979896682%2C%22c%22%3A1721976638949%2C%22l%22%3A1721978096682%7D',\n",
    "    '_ga_12BKR6ZT1H': 'GS1.2.1721976638.4.1.1721978096.1.0.0',\n",
    "    'cto_bundle': 'OeMdOl9KSFVwUGtWYm1GNmR6RjliR3EzZmdyaHdZME5Sa0s1bWtLeURpTEdqN05YJTJCUVRJOSUyRnVoU0hQemxvUjNFM2k2YkZjSFBvQ08lMkJsTTVvdG5vYzUxUHNpdXJXRm56TU5HJTJCbnV2UzZjSHhGWUladGZydm1PUDRpaTRmJTJCTW1QMm5CUUNVUmJwMlBUMklVM0NJQVR2VHY5YmNZWnRVOXJ1Y2NXakl2T0hOMWdUb3hyRXElMkZPczdlcGdzRUNVRzBhMEZvUlhTa2xueiUyRm9GREkwelByRUJRcGN0Y3clM0QlM0Q',\n",
    "    'FCNEC': '%5B%5B%22AKsRol9ghnE_LIxyTOYxntcgdC6SZPs6Bf_eS9UwlWbACQRfZZ_9gK7PDbIKQhLYRSwpH2cC8wW9HTU0CRRCf4Bv5KKd0QV3uN6GuqoS9gsBMRIqoj4paGSSEYpSlCrUaSmQ49QPJIjWKJKtCRK2opCyIBbT4kFAiA%3D%3D%22%5D%5D',\n",
    "    '_gat_gtag_UA_144849656_120': '1',\n",
    "    '_ga_N2QC9KJL32': 'GS1.1.1721976641.4.1.1721978098.0.0.0',\n",
    "    '_ga': 'GA1.1.312742335.1721885183',\n",
    "    '_ga_C8FZFRTHYV': 'GS1.1.1721976641.4.1.1721978098.0.0.0',\n",
    "}\n",
    "\n",
    "headers = {\n",
    "    'Accept': 'application/json, text/plain, */*',\n",
    "    'Accept-Language': 'ko',\n",
    "    'Cache-Control': 'no-cache',\n",
    "    'Connection': 'keep-alive',\n",
    "    'Content-Type': 'application/json',\n",
    "    # 'Cookie': 'grb_ck@cbd6aecb=1dbee15f-d926-476d-78b7-8963146f3308; grb_ui@cbd6aecb=e673e261-3d0f-c14a-7340-4264f5581f1d; WMONID=z6r3DvptI-b; ab.storage.deviceId.79570721-e48c-4ca4-b9d6-e036e9bfeff8=%7B%22g%22%3A%22e8185df7-3f70-5af9-fcda-de57454a9f0d%22%2C%22c%22%3A1721885183344%2C%22l%22%3A1721885183344%7D; _gcl_au=1.1.1904636840.1721885183; _gid=GA1.2.136043934.1721885184; _fbp=fb.1.1721885183911.139141426843129737; dmcself_fp=080b4a9db290ec97330d32f8427f06ff; _spfp=sp.1.080b4a9db290ec97330d32f8427f06ff.1721885185; _spfp_v2_2=sp.2.2.1721885185.95554; grb_id_permission@cbd6aecb=success; grb_ip_permission@cbd6aecb=success; grb_dynamic_list@=checked%2C%5B%5D; grb_recent_goods@cbd6aecb=EC61036242%2CEC61036242%2CEC61036242%2CEC61027488%2CEC61036242; __gads=ID=3eb660511442a5be:T=1721885183:RT=1721977974:S=ALNI_MZqyO6yJ6mehr9iZlBgVIYw84bi8g; __gpi=UID=00000ea59162998d:T=1721885183:RT=1721977974:S=ALNI_MYq1FRDHzr3RQFk4kmv1T-3_l2fGQ; __eoi=ID=c191399dacd8c201:T=1721885183:RT=1721977974:S=AA-AfjZtQBVS4lJOaXMELyOvtKvR; _ga_17DVLNK818=GS1.1.1721976639.4.1.1721978096.60.0.0; amplitude_id_86cd6422ba1c1dd78d122ad0b1158d6akcar.com=eyJkZXZpY2VJZCI6IjdiOTQ4OTM4LTVjMmYtNDEzZC04NGVmLTI5OTE1MTliNzBiNFIiLCJ1c2VySWQiOm51bGwsIm9wdE91dCI6ZmFsc2UsInNlc3Npb25JZCI6MTcyMTk3NjYzODk2MCwibGFzdEV2ZW50VGltZSI6MTcyMTk3ODA5NjY4MSwiZXZlbnRJZCI6MjYsImlkZW50aWZ5SWQiOjI0LCJzZXF1ZW5jZU51bWJlciI6NTB9; ab.storage.sessionId.79570721-e48c-4ca4-b9d6-e036e9bfeff8=%7B%22g%22%3A%22da5e40fc-a1a3-f0e9-d747-5359725fce09%22%2C%22e%22%3A1721979896682%2C%22c%22%3A1721976638949%2C%22l%22%3A1721978096682%7D; _ga_12BKR6ZT1H=GS1.2.1721976638.4.1.1721978096.1.0.0; cto_bundle=OeMdOl9KSFVwUGtWYm1GNmR6RjliR3EzZmdyaHdZME5Sa0s1bWtLeURpTEdqN05YJTJCUVRJOSUyRnVoU0hQemxvUjNFM2k2YkZjSFBvQ08lMkJsTTVvdG5vYzUxUHNpdXJXRm56TU5HJTJCbnV2UzZjSHhGWUladGZydm1PUDRpaTRmJTJCTW1QMm5CUUNVUmJwMlBUMklVM0NJQVR2VHY5YmNZWnRVOXJ1Y2NXakl2T0hOMWdUb3hyRXElMkZPczdlcGdzRUNVRzBhMEZvUlhTa2xueiUyRm9GREkwelByRUJRcGN0Y3clM0QlM0Q; FCNEC=%5B%5B%22AKsRol9ghnE_LIxyTOYxntcgdC6SZPs6Bf_eS9UwlWbACQRfZZ_9gK7PDbIKQhLYRSwpH2cC8wW9HTU0CRRCf4Bv5KKd0QV3uN6GuqoS9gsBMRIqoj4paGSSEYpSlCrUaSmQ49QPJIjWKJKtCRK2opCyIBbT4kFAiA%3D%3D%22%5D%5D; _gat_gtag_UA_144849656_120=1; _ga_N2QC9KJL32=GS1.1.1721976641.4.1.1721978098.0.0.0; _ga=GA1.1.312742335.1721885183; _ga_C8FZFRTHYV=GS1.1.1721976641.4.1.1721978098.0.0.0',\n",
    "    'Expires': '0',\n",
    "    'Origin': 'https://www.kcar.com',\n",
    "    'Pragma': 'no-cache',\n",
    "    'Referer': 'https://www.kcar.com/',\n",
    "    'Sec-Fetch-Dest': 'empty',\n",
    "    'Sec-Fetch-Mode': 'cors',\n",
    "    'Sec-Fetch-Site': 'same-site',\n",
    "    'User-Agent': 'Mozilla/5.0 (Windows NT 10.0; Win64; x64) AppleWebKit/537.36 (KHTML, like Gecko) Chrome/127.0.0.0 Safari/537.36',\n",
    "    'sec-ch-ua': '\"Not)A;Brand\";v=\"99\", \"Google Chrome\";v=\"127\", \"Chromium\";v=\"127\"',\n",
    "    'sec-ch-ua-mobile': '?0',\n",
    "    'sec-ch-ua-platform': '\"Windows\"',\n",
    "}\n",
    "\n",
    "json_data = {\n",
    "    'enc': 'PwcO6PUvOBeXq1dIii4rEI4sdN/px9Xiqza4WfcGGTuR4Zl81KqAY/888qtNxTew8tjnKroiuUNZSONJBa/GtrLhfkL3wlkxcwZOg2wS+ntoqoPkdrgYTHvdSm7+HMhFanJqY6oxavne+mggUbMP6JehAuB2ziMo7oVqfcqJsc8PUIryMVBJUb4s7S/G+dzPF1v9k+OyoF3vnqeG4M2lU6woVyoS/WYJkg0ebhUIgOh9hEUlpnMdhcNBHUkBXE9W',\n",
    "}\n",
    "\n",
    "response = requests.post('https://api.kcar.com/bc/search/list/drct', cookies=cookies, headers=headers, json=json_data)\n",
    "response\n",
    "# Note: json_data will not be serialized by requests\n",
    "# exactly as it was in the original request.\n",
    "#data = '{\"enc\":\"PwcO6PUvOBeXq1dIii4rEI4sdN/px9Xiqza4WfcGGTuR4Zl81KqAY/888qtNxTew8tjnKroiuUNZSONJBa/GtrLhfkL3wlkxcwZOg2wS+ntoqoPkdrgYTHvdSm7+HMhFanJqY6oxavne+mggUbMP6JehAuB2ziMo7oVqfcqJsc8PUIryMVBJUb4s7S/G+dzPF1v9k+OyoF3vnqeG4M2lU6woVyoS/WYJkg0ebhUIgOh9hEUlpnMdhcNBHUkBXE9W\"}'\n",
    "#response = requests.post('https://api.kcar.com/bc/search/list/drct', cookies=cookies, headers=headers, data=data)"
   ]
  },
  {
   "cell_type": "code",
   "execution_count": 8,
   "metadata": {},
   "outputs": [
    {
     "data": {
      "text/plain": [
       "<Response [200]>"
      ]
     },
     "execution_count": 8,
     "metadata": {},
     "output_type": "execute_result"
    }
   ],
   "source": [
    "import requests\n",
    "\n",
    "cookies2 = {\n",
    "    'grb_ck@cbd6aecb': '1dbee15f-d926-476d-78b7-8963146f3308',\n",
    "    'grb_ui@cbd6aecb': 'e673e261-3d0f-c14a-7340-4264f5581f1d',\n",
    "    'WMONID': 'z6r3DvptI-b',\n",
    "    'ab.storage.deviceId.79570721-e48c-4ca4-b9d6-e036e9bfeff8': '%7B%22g%22%3A%22e8185df7-3f70-5af9-fcda-de57454a9f0d%22%2C%22c%22%3A1721885183344%2C%22l%22%3A1721885183344%7D',\n",
    "    '_gcl_au': '1.1.1904636840.1721885183',\n",
    "    '_gid': 'GA1.2.136043934.1721885184',\n",
    "    '_fbp': 'fb.1.1721885183911.139141426843129737',\n",
    "    'dmcself_fp': '080b4a9db290ec97330d32f8427f06ff',\n",
    "    '_spfp': 'sp.1.080b4a9db290ec97330d32f8427f06ff.1721885185',\n",
    "    '_spfp_v2_2': 'sp.2.2.1721885185.95554',\n",
    "    'grb_id_permission@cbd6aecb': 'success',\n",
    "    'grb_ip_permission@cbd6aecb': 'success',\n",
    "    'grb_recent_goods@cbd6aecb': 'EC61036242%2CEC61036242%2CEC61036242%2CEC61027488%2CEC61036242',\n",
    "    '__gads': 'ID=3eb660511442a5be:T=1721885183:RT=1721977974:S=ALNI_MZqyO6yJ6mehr9iZlBgVIYw84bi8g',\n",
    "    '__gpi': 'UID=00000ea59162998d:T=1721885183:RT=1721977974:S=ALNI_MYq1FRDHzr3RQFk4kmv1T-3_l2fGQ',\n",
    "    '__eoi': 'ID=c191399dacd8c201:T=1721885183:RT=1721977974:S=AA-AfjZtQBVS4lJOaXMELyOvtKvR',\n",
    "    '_ga_17DVLNK818': 'GS1.1.1721976639.4.1.1721978096.60.0.0',\n",
    "    'amplitude_id_86cd6422ba1c1dd78d122ad0b1158d6akcar.com': 'eyJkZXZpY2VJZCI6IjdiOTQ4OTM4LTVjMmYtNDEzZC04NGVmLTI5OTE1MTliNzBiNFIiLCJ1c2VySWQiOm51bGwsIm9wdE91dCI6ZmFsc2UsInNlc3Npb25JZCI6MTcyMTk3NjYzODk2MCwibGFzdEV2ZW50VGltZSI6MTcyMTk3ODA5NjY4MSwiZXZlbnRJZCI6MjYsImlkZW50aWZ5SWQiOjI0LCJzZXF1ZW5jZU51bWJlciI6NTB9',\n",
    "    'ab.storage.sessionId.79570721-e48c-4ca4-b9d6-e036e9bfeff8': '%7B%22g%22%3A%22da5e40fc-a1a3-f0e9-d747-5359725fce09%22%2C%22e%22%3A1721979896682%2C%22c%22%3A1721976638949%2C%22l%22%3A1721978096682%7D',\n",
    "    '_ga_12BKR6ZT1H': 'GS1.2.1721976638.4.1.1721978096.1.0.0',\n",
    "    'cto_bundle': 'OeMdOl9KSFVwUGtWYm1GNmR6RjliR3EzZmdyaHdZME5Sa0s1bWtLeURpTEdqN05YJTJCUVRJOSUyRnVoU0hQemxvUjNFM2k2YkZjSFBvQ08lMkJsTTVvdG5vYzUxUHNpdXJXRm56TU5HJTJCbnV2UzZjSHhGWUladGZydm1PUDRpaTRmJTJCTW1QMm5CUUNVUmJwMlBUMklVM0NJQVR2VHY5YmNZWnRVOXJ1Y2NXakl2T0hOMWdUb3hyRXElMkZPczdlcGdzRUNVRzBhMEZvUlhTa2xueiUyRm9GREkwelByRUJRcGN0Y3clM0QlM0Q',\n",
    "    'FCNEC': '%5B%5B%22AKsRol9ghnE_LIxyTOYxntcgdC6SZPs6Bf_eS9UwlWbACQRfZZ_9gK7PDbIKQhLYRSwpH2cC8wW9HTU0CRRCf4Bv5KKd0QV3uN6GuqoS9gsBMRIqoj4paGSSEYpSlCrUaSmQ49QPJIjWKJKtCRK2opCyIBbT4kFAiA%3D%3D%22%5D%5D',\n",
    "    '_ga_N2QC9KJL32': 'GS1.1.1721976641.4.1.1721978098.0.0.0',\n",
    "    '_ga': 'GA1.1.312742335.1721885183',\n",
    "    '_ga_C8FZFRTHYV': 'GS1.1.1721976641.4.1.1721978098.0.0.0',\n",
    "}\n",
    "\n",
    "headers2 = {\n",
    "    'Accept': 'application/json, text/plain, */*',\n",
    "    'Accept-Language': 'ko',\n",
    "    'Cache-Control': 'no-cache',\n",
    "    'Connection': 'keep-alive',\n",
    "    'Content-Type': 'application/json',\n",
    "    # 'Cookie': 'grb_ck@cbd6aecb=1dbee15f-d926-476d-78b7-8963146f3308; grb_ui@cbd6aecb=e673e261-3d0f-c14a-7340-4264f5581f1d; WMONID=z6r3DvptI-b; ab.storage.deviceId.79570721-e48c-4ca4-b9d6-e036e9bfeff8=%7B%22g%22%3A%22e8185df7-3f70-5af9-fcda-de57454a9f0d%22%2C%22c%22%3A1721885183344%2C%22l%22%3A1721885183344%7D; _gcl_au=1.1.1904636840.1721885183; _gid=GA1.2.136043934.1721885184; _fbp=fb.1.1721885183911.139141426843129737; dmcself_fp=080b4a9db290ec97330d32f8427f06ff; _spfp=sp.1.080b4a9db290ec97330d32f8427f06ff.1721885185; _spfp_v2_2=sp.2.2.1721885185.95554; grb_id_permission@cbd6aecb=success; grb_ip_permission@cbd6aecb=success; grb_recent_goods@cbd6aecb=EC61036242%2CEC61036242%2CEC61036242%2CEC61027488%2CEC61036242; __gads=ID=3eb660511442a5be:T=1721885183:RT=1721977974:S=ALNI_MZqyO6yJ6mehr9iZlBgVIYw84bi8g; __gpi=UID=00000ea59162998d:T=1721885183:RT=1721977974:S=ALNI_MYq1FRDHzr3RQFk4kmv1T-3_l2fGQ; __eoi=ID=c191399dacd8c201:T=1721885183:RT=1721977974:S=AA-AfjZtQBVS4lJOaXMELyOvtKvR; _ga_17DVLNK818=GS1.1.1721976639.4.1.1721978096.60.0.0; amplitude_id_86cd6422ba1c1dd78d122ad0b1158d6akcar.com=eyJkZXZpY2VJZCI6IjdiOTQ4OTM4LTVjMmYtNDEzZC04NGVmLTI5OTE1MTliNzBiNFIiLCJ1c2VySWQiOm51bGwsIm9wdE91dCI6ZmFsc2UsInNlc3Npb25JZCI6MTcyMTk3NjYzODk2MCwibGFzdEV2ZW50VGltZSI6MTcyMTk3ODA5NjY4MSwiZXZlbnRJZCI6MjYsImlkZW50aWZ5SWQiOjI0LCJzZXF1ZW5jZU51bWJlciI6NTB9; ab.storage.sessionId.79570721-e48c-4ca4-b9d6-e036e9bfeff8=%7B%22g%22%3A%22da5e40fc-a1a3-f0e9-d747-5359725fce09%22%2C%22e%22%3A1721979896682%2C%22c%22%3A1721976638949%2C%22l%22%3A1721978096682%7D; _ga_12BKR6ZT1H=GS1.2.1721976638.4.1.1721978096.1.0.0; cto_bundle=OeMdOl9KSFVwUGtWYm1GNmR6RjliR3EzZmdyaHdZME5Sa0s1bWtLeURpTEdqN05YJTJCUVRJOSUyRnVoU0hQemxvUjNFM2k2YkZjSFBvQ08lMkJsTTVvdG5vYzUxUHNpdXJXRm56TU5HJTJCbnV2UzZjSHhGWUladGZydm1PUDRpaTRmJTJCTW1QMm5CUUNVUmJwMlBUMklVM0NJQVR2VHY5YmNZWnRVOXJ1Y2NXakl2T0hOMWdUb3hyRXElMkZPczdlcGdzRUNVRzBhMEZvUlhTa2xueiUyRm9GREkwelByRUJRcGN0Y3clM0QlM0Q; FCNEC=%5B%5B%22AKsRol9ghnE_LIxyTOYxntcgdC6SZPs6Bf_eS9UwlWbACQRfZZ_9gK7PDbIKQhLYRSwpH2cC8wW9HTU0CRRCf4Bv5KKd0QV3uN6GuqoS9gsBMRIqoj4paGSSEYpSlCrUaSmQ49QPJIjWKJKtCRK2opCyIBbT4kFAiA%3D%3D%22%5D%5D; _ga_N2QC9KJL32=GS1.1.1721976641.4.1.1721978098.0.0.0; _ga=GA1.1.312742335.1721885183; _ga_C8FZFRTHYV=GS1.1.1721976641.4.1.1721978098.0.0.0',\n",
    "    'Expires': '0',\n",
    "    'Origin': 'https://www.kcar.com',\n",
    "    'Pragma': 'no-cache',\n",
    "    'Referer': 'https://www.kcar.com/',\n",
    "    'Sec-Fetch-Dest': 'empty',\n",
    "    'Sec-Fetch-Mode': 'cors',\n",
    "    'Sec-Fetch-Site': 'same-site',\n",
    "    'User-Agent': 'Mozilla/5.0 (Windows NT 10.0; Win64; x64) AppleWebKit/537.36 (KHTML, like Gecko) Chrome/127.0.0.0 Safari/537.36',\n",
    "    'sec-ch-ua': '\"Not)A;Brand\";v=\"99\", \"Google Chrome\";v=\"127\", \"Chromium\";v=\"127\"',\n",
    "    'sec-ch-ua-mobile': '?0',\n",
    "    'sec-ch-ua-platform': '\"Windows\"',\n",
    "}\n",
    "\n",
    "json_data2 = {\n",
    "    'enc': '0FVTzYctlg7wVN/LGbZSIl49+FM5OYgGmucpmJpQGTWQJjCjPeJBtvfZEcTGfK/qrWpkI5/7I5tz7aiT0Plhis9WZHtat2gv+RGBHX/gqcQu+2U9hTZd4jp+eJXVsPMbaQWrd6U66THKtHJ7hTfJvAw/wc4suLJRi8OG292c6Hxh+YBx7JiSFqxsIueS1CA6ylse50+K//aJinREoVeZmMyTtvHiELtXWS5FnfBMub3f87kjEnWKCZFpv7DeLO4U',\n",
    "}\n",
    "\n",
    "response2 = requests.post('https://api.kcar.com/bc/search/list/drct', cookies=cookies, headers=headers, json=json_data2)\n",
    "response2\n",
    "# Note: json_data will not be serialized by requests\n",
    "# exactly as it was in the original request.\n",
    "#data = '{\"enc\":\"0FVTzYctlg7wVN/LGbZSIl49+FM5OYgGmucpmJpQGTWQJjCjPeJBtvfZEcTGfK/qrWpkI5/7I5tz7aiT0Plhis9WZHtat2gv+RGBHX/gqcQu+2U9hTZd4jp+eJXVsPMbaQWrd6U66THKtHJ7hTfJvAw/wc4suLJRi8OG292c6Hxh+YBx7JiSFqxsIueS1CA6ylse50+K//aJinREoVeZmMyTtvHiELtXWS5FnfBMub3f87kjEnWKCZFpv7DeLO4U\"}'\n",
    "#response = requests.post('https://api.kcar.com/bc/search/list/drct', cookies=cookies, headers=headers, data=data)"
   ]
  },
  {
   "cell_type": "code",
   "execution_count": 12,
   "metadata": {},
   "outputs": [
    {
     "data": {
      "text/plain": [
       "335"
      ]
     },
     "execution_count": 12,
     "metadata": {},
     "output_type": "execute_result"
    }
   ],
   "source": [
    "#json_data 차이로 페이지가 바뀜\n",
    "import json\n",
    "\n",
    "dic = json.loads(response.content)\n",
    "totalPageCnt = dic['data']['totalPageCnt']\n",
    "totalPageCnt"
   ]
  },
  {
   "cell_type": "code",
   "execution_count": 65,
   "metadata": {},
   "outputs": [
    {
     "name": "stdout",
     "output_type": "stream",
     "text": [
      "{'enc': 'PwcO6PUvOBeXq1dIii4rEI4sdN/px9Xiqza4WfcGGTuR4Zl81KqAY/888qtNxTew8tjnKroiuUNZSONJBa/GtrLhfkL3wlkxcwZOg2wS+ntoqoPkdrgYTHvdSm7+HMhFanJqY6oxavne+mggUbMP6JehAuB2ziMo7oVqfcqJsc8PUIryMVBJUb4s7S/G+dzPF1v9k+OyoF3vnqeG4M2lU6woVyoS/WYJkg0ebhUIgOh9hEUlpnMdhcNBHUkBXE9W'}\n",
      "{'enc': '0FVTzYctlg7wVN/LGbZSIl49+FM5OYgGmucpmJpQGTWQJjCjPeJBtvfZEcTGfK/qrWpkI5/7I5tz7aiT0Plhis9WZHtat2gv+RGBHX/gqcQu+2U9hTZd4jp+eJXVsPMbaQWrd6U66THKtHJ7hTfJvAw/wc4suLJRi8OG292c6Hxh+YBx7JiSFqxsIueS1CA6ylse50+K//aJinREoVeZmMyTtvHiELtXWS5FnfBMub3f87kjEnWKCZFpv7DeLO4U'}\n"
     ]
    }
   ],
   "source": [
    "print(json_data)\n",
    "print(json_data2)\n"
   ]
  },
  {
   "cell_type": "code",
   "execution_count": 1,
   "metadata": {},
   "outputs": [],
   "source": [
    "from selenium import webdriver\n",
    "from selenium.webdriver.common.keys import Keys\n",
    "from selenium.webdriver.common.by import By\n",
    "import time"
   ]
  },
  {
   "cell_type": "code",
   "execution_count": 65,
   "metadata": {},
   "outputs": [],
   "source": [
    "base_url = 'https://www.kcar.com/bc/search'\n",
    "driver = webdriver.Chrome()\n",
    "driver.get(base_url)\n",
    "time.sleep(2)"
   ]
  },
  {
   "cell_type": "code",
   "execution_count": 66,
   "metadata": {},
   "outputs": [],
   "source": [
    "next_btn = driver.find_element(By.CLASS_NAME, \"pageNext\").send_keys(Keys.ENTER)\n",
    "time.sleep(1)"
   ]
  },
  {
   "cell_type": "code",
   "execution_count": 96,
   "metadata": {},
   "outputs": [
    {
     "data": {
      "text/plain": [
       "{}"
      ]
     },
     "execution_count": 96,
     "metadata": {},
     "output_type": "execute_result"
    }
   ],
   "source": [
    "import requests\n",
    "\n",
    "headers = {\n",
    "    'accept': '*/*',\n",
    "    'accept-language': 'ko',\n",
    "    'content-type': 'application/json',\n",
    "    'origin': 'https://www.kcar.com',\n",
    "    'priority': 'u=1, i',\n",
    "    'referer': 'https://www.kcar.com/',\n",
    "    'sec-ch-ua': '\"Not)A;Brand\";v=\"99\", \"Google Chrome\";v=\"127\", \"Chromium\";v=\"127\"',\n",
    "    'sec-ch-ua-mobile': '?0',\n",
    "    'sec-ch-ua-platform': '\"Windows\"',\n",
    "    'sec-fetch-dest': 'empty',\n",
    "    'sec-fetch-mode': 'cors',\n",
    "    'sec-fetch-site': 'cross-site',\n",
    "    'user-agent': 'Mozilla/5.0 (Windows NT 10.0; Win64; x64) AppleWebKit/537.36 (KHTML, like Gecko) Chrome/127.0.0.0 Safari/537.36',\n",
    "    'x-braze-api-key': '79570721-e48c-4ca4-b9d6-e036e9bfeff8',\n",
    "    'x-requested-with': 'XMLHttpRequest',\n",
    "}\n",
    "\n",
    "json_data = {\n",
    "    'respond_with': {\n",
    "        'config': {\n",
    "            'config_time': 1715631527,\n",
    "        },\n",
    "    },\n",
    "    'events': [\n",
    "        {\n",
    "            'name': 'ce',\n",
    "            'time': 1722318148.257,\n",
    "            'data': {\n",
    "                'n': '차량 상세페이지 진입',\n",
    "                'p': {\n",
    "                    '차량번호': '41고1415',\n",
    "                    '직영점명': '전주직영점',\n",
    "                    '제조사': '아우디',\n",
    "                    '모델': '뉴 A3 ',\n",
    "                    '대분류': '25 TDI 다이나믹 스포트백',\n",
    "                    '소분류': '8V',\n",
    "                    '연식': 2015,\n",
    "                    '주행거리': 79675,\n",
    "                    '색상': '흰색',\n",
    "                    '연료': '디젤',\n",
    "                    '차종': '준중형차',\n",
    "                    '진단사고': '사고',\n",
    "                    '광고등록타입': '3D',\n",
    "                    '광고가': 9800000,\n",
    "                    '위클리특가': 0,\n",
    "                    '조회수': 6924,\n",
    "                    '좋아요수': 47,\n",
    "                    '썬루프여부': 'N',\n",
    "                    '네비게이션여부': 'N',\n",
    "                    'LDWS:차선이탈경보시스템': 'N',\n",
    "                    '헤드업디스플레이(HUD)': 'N',\n",
    "                    '360도어라운드뷰': 'N',\n",
    "                    '파워트렁크': 'N',\n",
    "                    '메모리시트:운전석': 'N',\n",
    "                    '메모리시트:조수석': 'N',\n",
    "                    '통풍시트:운전석': 'N',\n",
    "                    '통풍시트:조수석': 'N',\n",
    "                    '내차피해건수': 2,\n",
    "                    '광고가가격대': '900만원대',\n",
    "                    '주행거리범위': '7만km~8만km미만',\n",
    "                    '구동방식': '전륜',\n",
    "                    '인승': '5인승',\n",
    "                    '변속기': '오토',\n",
    "                    '용도변경이력': 'N',\n",
    "                    '배기량': 1598,\n",
    "                    '타임딜': 'Y',\n",
    "                    '테마기획전': 'none',\n",
    "                    '리스견적': 'N',\n",
    "                },\n",
    "            },\n",
    "            'session_id': '5bd81c13-af47-6113-ca92-3e7c655c4e01',\n",
    "        },\n",
    "    ],\n",
    "    'api_key': '79570721-e48c-4ca4-b9d6-e036e9bfeff8',\n",
    "    'time': 1722318158,\n",
    "    'sdk_version': '3.2.0',\n",
    "    'device_id': 'e8185df7-3f70-5af9-fcda-de57454a9f0d',\n",
    "}\n",
    "\n",
    "import json\n",
    "response = requests.post('https://sdk.iad-03.braze.com/api/v3/data/', headers=headers, json=json_data)\n",
    "dic = json.loads(response.content)\n",
    "dic\n",
    "# Note: json_data will not be serialized by requests\n",
    "# exactly as it was in the original request.\n",
    "#data = '{\"respond_with\":{\"config\":{\"config_time\":1715631527}},\"events\":[{\"name\":\"ce\",\"time\":1722318148.257,\"data\":{\"n\":\"차량 상세페이지 진입\",\"p\":{\"차량번호\":\"41고1415\",\"직영점명\":\"전주직영점\",\"제조사\":\"아우디\",\"모델\":\"뉴 A3 \",\"대분류\":\"25 TDI 다이나믹 스포트백\",\"소분류\":\"8V\",\"연식\":2015,\"주행거리\":79675,\"색상\":\"흰색\",\"연료\":\"디젤\",\"차종\":\"준중형차\",\"진단사고\":\"사고\",\"광고등록타입\":\"3D\",\"광고가\":9800000,\"위클리특가\":0,\"조회수\":6924,\"좋아요수\":47,\"썬루프여부\":\"N\",\"네비게이션여부\":\"N\",\"LDWS:차선이탈경보시스템\":\"N\",\"헤드업디스플레이(HUD)\":\"N\",\"360도어라운드뷰\":\"N\",\"파워트렁크\":\"N\",\"메모리시트:운전석\":\"N\",\"메모리시트:조수석\":\"N\",\"통풍시트:운전석\":\"N\",\"통풍시트:조수석\":\"N\",\"내차피해건수\":2,\"광고가가격대\":\"900만원대\",\"주행거리범위\":\"7만km~8만km미만\",\"구동방식\":\"전륜\",\"인승\":\"5인승\",\"변속기\":\"오토\",\"용도변경이력\":\"N\",\"배기량\":1598,\"타임딜\":\"Y\",\"테마기획전\":\"none\",\"리스견적\":\"N\"}},\"session_id\":\"5bd81c13-af47-6113-ca92-3e7c655c4e01\"}],\"api_key\":\"79570721-e48c-4ca4-b9d6-e036e9bfeff8\",\"time\":1722318158,\"sdk_version\":\"3.2.0\",\"device_id\":\"e8185df7-3f70-5af9-fcda-de57454a9f0d\"}'.encode()\n",
    "#response = requests.post('https://sdk.iad-03.braze.com/api/v3/data/', headers=headers, data=data)"
   ]
  },
  {
   "cell_type": "code",
   "execution_count": null,
   "metadata": {},
   "outputs": [],
   "source": [
    "    # id : int\n",
    "# name : str\n",
    "#     price : int\n",
    "#     mileage : int\n",
    "#     fuel_type : str\n",
    "#     color : str\n",
    "#     Transmisson_type : str\n",
    "\n",
    "#     outside_steelWork : int \n",
    "#     outside_change : int\n",
    "#     frame_steelWork :int\n",
    "#     frame_change : int\n",
    "\n",
    "#     accident : str\n",
    "\n",
    "#     pass_terior : int\n",
    "#     pass_tire : int\n",
    "#     pass_consumable : int\n",
    "#     pass_lowerBody : int\n",
    "\n",
    "#     notice_terior : int\n",
    "#     notice_tire : int\n",
    "#     notice_consumable : int\n",
    "#     notice_lowerBody : int\n",
    "\n",
    "#     optionList_exterior : list[str] = field(default_factory=list)\n",
    "#     optionList_interior : list[str] = field(default_factory=list)\n",
    "#     optionList_safety : list[str] = field(default_factory=list)\n",
    "#     optionList_convenience : list[str] = field(default_factory=list)\n",
    "\n",
    "#     damage_amount : int\n",
    "#     damage_count : int\n",
    "#     owner_change : int \n",
    "#     caution_cnt : int\n",
    "#     owner_age : int\n",
    "#     owner_sex : str\n",
    "#     register_gu : str\n",
    "#     usage_duration : float"
   ]
  },
  {
   "cell_type": "code",
   "execution_count": 67,
   "metadata": {},
   "outputs": [],
   "source": [
    "a_tags = driver.find_elements(By.ID, \"mkt_clickCarNm\")\n",
    "\n",
    "a_tag = a_tags[0]\n",
    "\n",
    "a_tag.click()"
   ]
  },
  {
   "cell_type": "code",
   "execution_count": 42,
   "metadata": {},
   "outputs": [],
   "source": [
    "\n",
    "from selenium.webdriver.support.ui import WebDriverWait\n",
    "from selenium.webdriver.support import expected_conditions as EC"
   ]
  },
  {
   "cell_type": "code",
   "execution_count": 83,
   "metadata": {},
   "outputs": [
    {
     "name": "stdout",
     "output_type": "stream",
     "text": [
      "<html><head><script src=\"//browser.sentry-cdn.com/5.11.1/bundle.min.js\" integrity=\"sha384-r7/ZcDRYpWjCNXLUKk3iuyyyEcDJ+o+3M5CqXP5GUGODYbolXewNHAZLYSJ3ZHcV\" crossorigin=\"anonymous\"></script><script type=\"text/javascript\" src=\"https://cdnjs.cloudflare.com/ajax/libs/jquery/1.12.1/jquery.min.js\"></script><script type=\"text/javascript\" src=\"//cdnjs.cloudflare.com/ajax/libs/jqueryui/1.12.1/jquery-ui.min.js\"></script><script type=\"text/javascript\" src=\"//static.groobee.io/dist/g2/js/custom-swiper-bundle.min.js\"></script><script type=\"text/javascript\" src=\"https://static.groobee.io/dist/g2/groobee.core.min.js?dist_ver=14700\"></script><script type=\"text/javascript\" src=\"https://static.groobee.io/dist/g2/groobee.front.min.js?dist_ver=14700\"></script></head><body></body></html>\n"
     ]
    }
   ],
   "source": [
    "wait = WebDriverWait(driver, 10)\n",
    "\n",
    "#print(driver.page_source)\n",
    "driver.switch_to.default_content()\n",
    "iframes = driver.find_elements(By.CSS_SELECTOR, 'iframe')\n",
    "\n",
    "\n",
    "\n",
    "# for iframe in iframes :\n",
    "#     print(iframe.get_attribute('name'))\n",
    "\n",
    "\n",
    "driver.switch_to.frame(iframes[7])\n",
    "print(driver.page_source)\n",
    "#price = wait.until(EC.presence_of_element_located((By.XPATH, '//*[@id=\"app\"]/div[2]/div/div[2]/div[2]/div[1]/div[1]/div[1]/div/strong')))\n",
    "\n",
    "\n",
    "#price\n",
    "#price = int(price_text) * 10000\n",
    "#mileage_text = driver.find_element(By.CSS_SELECTOR, \"ul.dotLists > li:nth-child(2)\").text\n",
    "#mileage = re.sub(r'[^0-9]','',mileage_text)\n",
    "# fuel_type = driver.find_element(By.CSS_SELECTOR, \"ul.dotLists > li:nth-child(3)\").text\n",
    "# color = driver.find_element(By.CSS_SELECTOR, \"ul.dotLists > li:nth-child(5)\").text\n",
    "# transmisson_type = driver.find_element(By.CSS_SELECTOR, \"ul.dotLists > li:nth-child(6)\").text\n",
    "# print(name, price, mileage, fuel_type, color, transmisson_type)\n",
    "\n",
    "#driver.find_element(By.CLASS_NAME, \"price\")\n"
   ]
  },
  {
   "cell_type": "code",
   "execution_count": 49,
   "metadata": {},
   "outputs": [],
   "source": [
    "#app > div.carInfoWrap.carInfoType1 > div > div.carInfoContent > div.carInfoDetailWrap > div.carInfoLeft.sumSummaryWrap > section:nth-child(7) > div.detail-result-box > ul > li:nth-child(1) > p.value > b\n",
    "\n",
    "from KcarInfo import Car\n",
    "import re\n",
    "\n",
    "a_tags = driver.find_elements(By.ID, \"mkt_clickCarNm\")\n",
    "\n",
    "carDic = {}\n",
    "cnt = 1\n",
    "\n",
    "for a_tag in a_tags :\n",
    "    a_tag.click()\n",
    "    time.sleep(1)\n",
    "    name = driver.find_element(By.CLASS_NAME, \"carName\")\n",
    "    price_text = driver.find_element(By.CSS_SELECTOR, \"div.price > strong\").text\n",
    "    price = int(price_text) * 10000\n",
    "    mileage_text = driver.find_element(By.CSS_SELECTOR, \"ul.dotLists > li:nth-child(2)\").text\n",
    "    mileage = re.sub(r'[^0-9]','',mileage_text)\n",
    "    fuel_type = driver.find_element(By.CSS_SELECTOR, \"ul.dotLists > li:nth-child(3)\").text\n",
    "    color = driver.find_element(By.CSS_SELECTOR, \"ul.dotLists > li:nth-child(5)\").text\n",
    "    Transmisson_type = driver.find_element(By.CSS_SELECTOR, \"ul.dotLists > li:nth-child(6)\").text\n",
    "    outside_steelWork : int \n",
    "    outside_change : int\n",
    "    frame_steelWork :int\n",
    "    frame_change : int\n",
    "\n",
    "    accident : str\n",
    "\n",
    "    pass_terior : int\n",
    "    pass_tire : int\n",
    "    pass_consumable : int\n",
    "    pass_lowerBody : int\n",
    "\n",
    "    notice_terior : int\n",
    "    notice_tire : int\n",
    "    notice_consumable : int\n",
    "    notice_lowerBody : int\n",
    "\n",
    "    optionList_exterior : list[str] = field(default_factory=list)\n",
    "    optionList_interior : list[str] = field(default_factory=list)\n",
    "    optionList_safety : list[str] = field(default_factory=list)\n",
    "    optionList_convenience : list[str] = field(default_factory=list)\n",
    "\n",
    "    damage_amount : int\n",
    "    damage_count : int\n",
    "    owner_change : int \n",
    "    caution_cnt : int\n",
    "    owner_age : int\n",
    "    owner_sex : str\n",
    "    register_gu : str\n",
    "    usage_duration : float\n",
    "\n",
    "    cnt +=1 \n",
    "    "
   ]
  }
 ],
 "metadata": {
  "kernelspec": {
   "display_name": "usedCar",
   "language": "python",
   "name": "python3"
  },
  "language_info": {
   "codemirror_mode": {
    "name": "ipython",
    "version": 3
   },
   "file_extension": ".py",
   "mimetype": "text/x-python",
   "name": "python",
   "nbconvert_exporter": "python",
   "pygments_lexer": "ipython3",
   "version": "3.12.4"
  }
 },
 "nbformat": 4,
 "nbformat_minor": 2
}
